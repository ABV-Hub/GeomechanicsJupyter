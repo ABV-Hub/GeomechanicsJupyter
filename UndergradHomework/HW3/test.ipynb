{
 "cells": [
  {
   "cell_type": "markdown",
   "metadata": {},
   "source": [
    "##### e) If q=5.3, what is the UCS of this rock?"
   ]
  },
  {
   "cell_type": "markdown",
   "metadata": {},
   "source": [
    "Confining pressure or the effective minimum principal stress ($\\sigma_3$) is given to be 1500 [psi]\n",
    "\n",
    "From part b), we plotted deviatoric stress ($\\sigma_d$) as a function of axial strain. The peak stress was ~16800 [psi]\n",
    "\n",
    "Recall $\\sigma_1$ (the effective maximum principal stress) is calculated using\n",
    "\n",
    "$$\\sigma_1=\\sigma_3+\\sigma_d$$  \n",
    "$$\\sigma_1=1500+16800=18300 [psi]$$\n",
    "\n",
    "Recall Coulomb's failure criterion can be written as\n",
    "\n",
    "$$\\sigma_1 = UCS + q \\; \\sigma_3$$  \n",
    "$$18300 = UCS + 5.3 \\times 1500$$  \n",
    "$$UCS=10350 [psi]$$"
   ]
  }
 ],
 "metadata": {
  "kernelspec": {
   "display_name": "Python 3",
   "language": "python",
   "name": "python3"
  },
  "language_info": {
   "codemirror_mode": {
    "name": "ipython",
    "version": 3
   },
   "file_extension": ".py",
   "mimetype": "text/x-python",
   "name": "python",
   "nbconvert_exporter": "python",
   "pygments_lexer": "ipython3",
   "version": "3.7.0"
  }
 },
 "nbformat": 4,
 "nbformat_minor": 2
}
