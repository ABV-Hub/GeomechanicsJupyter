{
 "cells": [
  {
   "cell_type": "markdown",
   "metadata": {},
   "source": [
    "# Homework 5 Solutions"
   ]
  },
  {
   "cell_type": "markdown",
   "metadata": {},
   "source": [
    "# Problem 1: Kirsch Solution\n",
    "\n",
    "#### Using equations of stresses around a cylindrical cavity, calculate near-wellbore effective radial $\\sigma_{rr}$ and hoop $\\sigma_{\\theta\\theta}$ stresses for a vertical well 8in diameter in the directions of $S_{hmin}$ (4500 psi – acting E-W) and $S_{Hmax}$ (6000 psi) up to 3ft of distance. The result should be presented as plots of stresses ($\\sigma_{rr}$, $\\sigma_{\\theta\\theta}$) as a function of distance from the center of the wellbore.  "
   ]
  },
  {
   "cell_type": "markdown",
   "metadata": {},
   "source": [
    "#### (a) $P_p=3200 psi$ and $P_w=3200 psi$ "
   ]
  },
  {
   "cell_type": "code",
   "execution_count": 1,
   "metadata": {},
   "outputs": [],
   "source": [
    "import numpy as np\n",
    "import matplotlib.pyplot as plt\n",
    "\n",
    "# Given parameters\n",
    "Pp = 3200 # Pore pressure [psi]\n",
    "Pw = 3200 # Wellbore pressure [psi]\n",
    "a = 4 # Wellbore radius, a [in]\n",
    "S_hmin = 4500 # Minimum total horizontal stress [psi]\n",
    "S_Hmax = 6000 # Maximum total horizontal stress [psi]\n",
    "sigma_hmin = S_hmin - Pp # Minimum effective horizontal stress [psi]\n",
    "sigma_Hmax = S_Hmax - Pp # Maximum effective horizontal stress [psi]\n",
    "\n",
    "# Calculate the radial stress, σrr and the tangential (hoop) stress, σθθ based on r and theta \n",
    "r = np.linspace(4, 35, 31) # distance measured from the center of the wellbore [in]\n",
    "theta = 0 *(np.pi/180) # θ is the angle between the direction of SHmax and the point at which stress is being considered [°]\n",
    "sigma_rr_0 =(((sigma_Hmax+sigma_hmin)/2)*(1-((a**2)/(r**2))))+(((sigma_Hmax-sigma_hmin)/2)*(1-(4*((a**2)/(r**2)))+(3*((a**4)/(r**4))))*np.cos((2*theta)))+((Pw-Pp)*((a**2)/(r**2)))\n",
    "sigma_thetatheta_0 =(((sigma_Hmax+sigma_hmin)/2)*(1+((a**2)/(r**2))))-(((sigma_Hmax-sigma_hmin)/2)*(1+(3*((a**4)/(r**4))))*np.cos((2*theta)))-((Pw-Pp)*((a**2)/(r**2)))\n",
    "theta = 90 *(np.pi/180) # θ is the angle between the direction of SHmax and the point at which stress is being considered [°]\n",
    "sigma_rr_90 =(((sigma_Hmax+sigma_hmin)/2)*(1-((a**2)/(r**2))))+(((sigma_Hmax-sigma_hmin)/2)*(1-(4*((a**2)/(r**2)))+(3*((a**4)/(r**4))))*np.cos((2*theta)))+((Pw-Pp)*((a**2)/(r**2)))\n",
    "sigma_thetatheta_90 =(((sigma_Hmax+sigma_hmin)/2)*(1+((a**2)/(r**2))))-(((sigma_Hmax-sigma_hmin)/2)*(1+(3*((a**4)/(r**4))))*np.cos((2*theta)))-((Pw-Pp)*((a**2)/(r**2)))\n",
    "\n",
    "# Plotting\n",
    "plt.plot(r, sigma_rr_0, '--k', label=r'$\\sigma_{rr} (\\theta=0°)$',)\n",
    "plt.plot(r, sigma_thetatheta_0, '-k', label=r'$\\sigma_{\\theta\\theta} (\\theta=0°)$',)\n",
    "plt.plot(r, sigma_rr_90, '--r', label=r'$\\sigma_{rr} (\\theta=90°)$',)\n",
    "plt.plot(r, sigma_thetatheta_90, '-r', label=r'$\\sigma_{\\theta\\theta} (\\theta=90°)$',)\n",
    "# Plot labels\n",
    "plt.xlabel('Distance from Center of Wellbore [in]')\n",
    "plt.ylabel('Stress [psi]')\n",
    "plt.legend()\n",
    "# Axis range\n",
    "plt.xlim([0, 35])\n",
    "plt.ylim([0, 7000])\n",
    "# Change plot size\n",
    "fig = plt.gcf()\n",
    "fig.set_size_inches(10, 6)"
   ]
  },
  {
   "cell_type": "markdown",
   "metadata": {},
   "source": [
    "#### (b) $P_p=3200 psi$ and $P_w=4000 psi$"
   ]
  },
  {
   "cell_type": "code",
   "execution_count": 2,
   "metadata": {},
   "outputs": [
    {
     "data": {
      "image/png": "[encoded data removed]",
      "text/plain": [
       "<Figure size 720x432 with 1 Axes>"
      ]
     },
     "metadata": {
      "needs_background": "light"
     },
     "output_type": "display_data"
    }
   ],
   "source": [
    "import numpy as np\n",
    "import matplotlib.pyplot as plt\n",
    "\n",
    "# Given parameters\n",
    "Pp = 3200 # Pore pressure [psi]\n",
    "Pw = 4000 # Wellbore pressure [psi]\n",
    "a = 4 # Wellbore radius, a [in]\n",
    "S_hmin = 4500 # Minimum total horizontal stress [psi]\n",
    "S_Hmax = 6000 # Maximum total horizontal stress [psi]\n",
    "sigma_hmin = S_hmin - Pp # Minimum effective horizontal stress [psi]\n",
    "sigma_Hmax = S_Hmax - Pp # Maximum effective horizontal stress [psi]\n",
    "\n",
    "# Calculate the radial stress, σrr and the tangential (hoop) stress, σθθ based on r and theta \n",
    "r = np.linspace(4, 35, 31) # distance measured from the center of the wellbore [in]\n",
    "theta = 0 *(np.pi/180) # θ is the angle between the direction of SHmax and the point at which stress is being considered [°]\n",
    "sigma_rr_0 =(((sigma_Hmax+sigma_hmin)/2)*(1-((a**2)/(r**2))))+(((sigma_Hmax-sigma_hmin)/2)*(1-(4*((a**2)/(r**2)))+(3*((a**4)/(r**4))))*np.cos((2*theta)))+((Pw-Pp)*((a**2)/(r**2)))\n",
    "sigma_thetatheta_0 =(((sigma_Hmax+sigma_hmin)/2)*(1+((a**2)/(r**2))))-(((sigma_Hmax-sigma_hmin)/2)*(1+(3*((a**4)/(r**4))))*np.cos((2*theta)))-((Pw-Pp)*((a**2)/(r**2)))\n",
    "theta = 90 *(np.pi/180) # θ is the angle between the direction of SHmax and the point at which stress is being considered [°]\n",
    "sigma_rr_90 =(((sigma_Hmax+sigma_hmin)/2)*(1-((a**2)/(r**2))))+(((sigma_Hmax-sigma_hmin)/2)*(1-(4*((a**2)/(r**2)))+(3*((a**4)/(r**4))))*np.cos((2*theta)))+((Pw-Pp)*((a**2)/(r**2)))\n",
    "sigma_thetatheta_90 =(((sigma_Hmax+sigma_hmin)/2)*(1+((a**2)/(r**2))))-(((sigma_Hmax-sigma_hmin)/2)*(1+(3*((a**4)/(r**4))))*np.cos((2*theta)))-((Pw-Pp)*((a**2)/(r**2)))\n",
    "\n",
    "# Plotting\n",
    "plt.plot(r, sigma_rr_0, '--k', label=r'$\\sigma_{rr} (\\theta=0°)$',)\n",
    "plt.plot(r, sigma_thetatheta_0, '-k', label=r'$\\sigma_{\\theta\\theta} (\\theta=0°)$',)\n",
    "plt.plot(r, sigma_rr_90, '--r', label=r'$\\sigma_{rr} (\\theta=90°)$',)\n",
    "plt.plot(r, sigma_thetatheta_90, '-r', label=r'$\\sigma_{\\theta\\theta} (\\theta=90°)$',)\n",
    "# Plot labels\n",
    "plt.xlabel('Distance from Center of Wellbore [in]')\n",
    "plt.ylabel('Stress [psi]')\n",
    "plt.legend()\n",
    "# Axis range\n",
    "plt.xlim([0, 35])\n",
    "plt.ylim([0, 7000])\n",
    "# Change plot size\n",
    "fig = plt.gcf()\n",
    "fig.set_size_inches(10, 6)"
   ]
  },
  {
   "cell_type": "markdown",
   "metadata": {},
   "source": [
    "# Problem 2: Effect of Overpressure\n",
    "\n",
    "#### Consider the problem solved in class (Wellbore: vertical; Site: onshore, 7000 ft of depth, $S_{hmin}=4300psi$, $S_{Hmax}=6300psi$; Rock properties: $UCS = 3,500 psi$, $\\mu=0.6$, $T_s = 800 psi$). "
   ]
  },
  {
   "cell_type": "markdown",
   "metadata": {},
   "source": [
    "#### (a) Calculate wellbore pressure and corresponding mud weight for (i) $w_{BO}=70°$, (ii) $w_{BO}=0° (P_{Wshear})$, and (iii) for inducing tensile fractures ($P_b$) for $\\lambda_p= 0.52$ and $\\lambda_p= 0.60$. Compare with $\\lambda_p= 0.44$ solved in class. How does the drilling mud window change with overpressure?"
   ]
  },
  {
   "cell_type": "markdown",
   "metadata": {},
   "source": [
    "We can calculate the wellbore pressure for a predetermined breakout angle:\n",
    "\n",
    "$$P_{wBO} = P_p + \\frac{(\\sigma_{Hmax} + \\sigma_{hmin})- 2(\\sigma_{Hmax} - \\sigma_{hmin}) \\cos (\\pi - w_{BO}) - UCS}{1+q}$$\n",
    "\n",
    "Wellbore breakouts occur when the stress anisotropy $\\sigma_1/\\sigma_3$ surpasses the shear strength limit of the wellbore rock. Maximum anisotropy is found at $\\theta = \\pi/2$ and $3\\pi/2$, so the lower limit of wellbore pressure $P_{Wshear}$ is\n",
    "\n",
    "$$\\displaystyle P_{Wshear} = P_p + \\frac{3 \\sigma_{hmin} - \\sigma_{Hmax} -UCS}{1+q}$$\n",
    "\n",
    "Wellbore tensile (or open mode) fractures occur when the minimum principal stress $\\sigma _3$ on the wellbore wall goes below the limit for tensile stress: the tensile strength. The minimum hoop stress is located on the wall of the wellbore $(r=a)$ and at $\\theta = 0$ and $\\pi$, so the upper limit of wellbore pressure $P_b$ to prevent wellbore tensile (or open mode) fractures from forming is:\n",
    "\n",
    "$$\\displaystyle P_b = P_p + 3 \\sigma_{hmin} - \\sigma_{Hmax} + T_s+ \\sigma^{\\Delta T}$$\n",
    "\n",
    "The mud window gets smaller as over pressure increases. The wellbore becomes unstable when $P_b$ is smaller than $P_{wBO}$."
   ]
  },
  {
   "cell_type": "code",
   "execution_count": 3,
   "metadata": {},
   "outputs": [
    {
     "data": {
      "text/html": [
       "<div>\n",
       "<style scoped>\n",
       "    .dataframe tbody tr th:only-of-type {\n",
       "        vertical-align: middle;\n",
       "    }\n",
       "\n",
       "    .dataframe tbody tr th {\n",
       "        vertical-align: top;\n",
       "    }\n",
       "\n",
       "    .dataframe thead th {\n",
       "        text-align: right;\n",
       "    }\n",
       "</style>\n",
       "<table border=\"1\" class=\"dataframe\">\n",
       "  <thead>\n",
       "    <tr style=\"text-align: right;\">\n",
       "      <th></th>\n",
       "      <th>λp</th>\n",
       "      <th>wBO [°]</th>\n",
       "      <th>PwBO [psi]</th>\n",
       "      <th>Pwshear [psi]</th>\n",
       "      <th>Pb [psi]</th>\n",
       "      <th>PwBO [ppg]</th>\n",
       "      <th>Pwshear [ppg]</th>\n",
       "      <th>Pb [ppg]</th>\n",
       "      <th>-</th>\n",
       "      <th>wBO [°].1</th>\n",
       "      <th>PwBO [psi].1</th>\n",
       "      <th>Pwshear [psi].1</th>\n",
       "      <th>Pb [psi].1</th>\n",
       "      <th>PwBO [ppg].1</th>\n",
       "      <th>Pwshear [ppg].1</th>\n",
       "      <th>Pb [ppg].1</th>\n",
       "    </tr>\n",
       "  </thead>\n",
       "  <tbody>\n",
       "    <tr>\n",
       "      <th>0</th>\n",
       "      <td>0.44</td>\n",
       "      <td>70</td>\n",
       "      <td>3640</td>\n",
       "      <td>4279</td>\n",
       "      <td>4320</td>\n",
       "      <td>10.0</td>\n",
       "      <td>11.8</td>\n",
       "      <td>11.9</td>\n",
       "      <td>-</td>\n",
       "      <td>0</td>\n",
       "      <td>4279</td>\n",
       "      <td>4279</td>\n",
       "      <td>4320</td>\n",
       "      <td>11.8</td>\n",
       "      <td>11.8</td>\n",
       "      <td>11.9</td>\n",
       "    </tr>\n",
       "    <tr>\n",
       "      <th>1</th>\n",
       "      <td>0.52</td>\n",
       "      <td>70</td>\n",
       "      <td>3928</td>\n",
       "      <td>4567</td>\n",
       "      <td>3761</td>\n",
       "      <td>10.8</td>\n",
       "      <td>12.5</td>\n",
       "      <td>10.3</td>\n",
       "      <td>-</td>\n",
       "      <td>0</td>\n",
       "      <td>4567</td>\n",
       "      <td>4567</td>\n",
       "      <td>3761</td>\n",
       "      <td>12.5</td>\n",
       "      <td>12.5</td>\n",
       "      <td>10.3</td>\n",
       "    </tr>\n",
       "    <tr>\n",
       "      <th>2</th>\n",
       "      <td>0.60</td>\n",
       "      <td>70</td>\n",
       "      <td>4217</td>\n",
       "      <td>4855</td>\n",
       "      <td>3202</td>\n",
       "      <td>11.6</td>\n",
       "      <td>13.3</td>\n",
       "      <td>8.8</td>\n",
       "      <td>-</td>\n",
       "      <td>0</td>\n",
       "      <td>4855</td>\n",
       "      <td>4855</td>\n",
       "      <td>3202</td>\n",
       "      <td>13.3</td>\n",
       "      <td>13.3</td>\n",
       "      <td>8.8</td>\n",
       "    </tr>\n",
       "  </tbody>\n",
       "</table>\n",
       "</div>"
      ],
      "text/plain": [
       "     λp  wBO [°]  PwBO [psi]  Pwshear [psi]  Pb [psi]  PwBO [ppg]  \\\n",
       "0  0.44       70        3640           4279      4320        10.0   \n",
       "1  0.52       70        3928           4567      3761        10.8   \n",
       "2  0.60       70        4217           4855      3202        11.6   \n",
       "\n",
       "   Pwshear [ppg]  Pb [ppg]  -  wBO [°].1  PwBO [psi].1  Pwshear [psi].1  \\\n",
       "0           11.8      11.9  -          0          4279             4279   \n",
       "1           12.5      10.3  -          0          4567             4567   \n",
       "2           13.3       8.8  -          0          4855             4855   \n",
       "\n",
       "   Pb [psi].1  PwBO [ppg].1  Pwshear [ppg].1  Pb [ppg].1  \n",
       "0        4320          11.8             11.8        11.9  \n",
       "1        3761          12.5             12.5        10.3  \n",
       "2        3202          13.3             13.3         8.8  "
      ]
     },
     "execution_count": 3,
     "metadata": {},
     "output_type": "execute_result"
    }
   ],
   "source": [
    "import pandas as pd\n",
    "\n",
    "excel_file = 'HW5.xlsx'\n",
    "DataQ2Summary = pd.read_excel(excel_file, sheet_name=2)\n",
    "DataQ2Summary.head(5)"
   ]
  },
  {
   "cell_type": "code",
   "execution_count": 4,
   "metadata": {},
   "outputs": [
    {
     "data": {
      "image/png": "[encoded data removed]",
      "text/plain": [
       "<Figure size 1440x360 with 1 Axes>"
      ]
     },
     "metadata": {
      "needs_background": "light"
     },
     "output_type": "display_data"
    }
   ],
   "source": [
    "import numpy as np\n",
    "import matplotlib.pyplot as plt\n",
    "\n",
    "lambda_p = DataQ2Summary['λp']\n",
    "PwBO_70 = DataQ2Summary['PwBO [psi]']\n",
    "Pwshear_70 = DataQ2Summary['Pwshear [psi]']\n",
    "Pb_70 = DataQ2Summary['Pb [psi]']\n",
    "PwBO_0 = DataQ2Summary['PwBO [psi].1']\n",
    "Pwshear_0 = DataQ2Summary['Pwshear [psi].1']\n",
    "Pb_0 = DataQ2Summary['Pb [psi].1']\n",
    "\n",
    "# Change plot size\n",
    "fig = plt.gcf()\n",
    "fig.set_size_inches(20, 5)\n",
    "# Plot data\n",
    "plt.subplot(1, 2, 1)\n",
    "plt.plot(PwBO_70,lambda_p,'tab:orange', label='$P_{wBO}$')\n",
    "plt.plot(Pwshear_70,lambda_p,'tab:blue', label='$P_{wshear}$')\n",
    "plt.plot(Pb_70,lambda_p,'tab:gray', label='$P_b$')\n",
    "# Plot labels\n",
    "plt.xlabel('Wellbore Pressure [psi]')\n",
    "plt.ylabel('Overpressure Parameter, $\\lambda_p$')\n",
    "plt.title('Wellbore Breakout Angle ($w_{BO}$) of 70°')\n",
    "plt.legend()\n",
    "# Axis range\n",
    "plt.xlim([3000, 5000])\n",
    "plt.ylim([0.4, 0.65])\n",
    "plt.show()"
   ]
  },
  {
   "cell_type": "code",
   "execution_count": 5,
   "metadata": {},
   "outputs": [
    {
     "data": {
      "image/png": "[encoded data removed]",
      "text/plain": [
       "<Figure size 648x360 with 1 Axes>"
      ]
     },
     "metadata": {
      "needs_background": "light"
     },
     "output_type": "display_data"
    }
   ],
   "source": [
    "# Change plot size\n",
    "fig = plt.gcf()\n",
    "fig.set_size_inches(9, 5)\n",
    "# Plot data\n",
    "plt.plot(PwBO_0,lambda_p,'tab:blue', label='$P_{wBO}=P_{wshear}$')\n",
    "plt.plot(Pb_0,lambda_p,'tab:gray', label='$P_b$')\n",
    "# Plot labels\n",
    "plt.xlabel('Wellbore Pressure [psi]')\n",
    "plt.ylabel('Overpressure Parameter, $\\lambda_p$')\n",
    "plt.title('Wellbore Breakout Angle ($w_{BO}$) of 0°')\n",
    "plt.legend()\n",
    "# Axis range\n",
    "plt.xlim([1000, 6000])\n",
    "plt.ylim([0.4, 0.65])\n",
    "plt.show()"
   ]
  },
  {
   "cell_type": "markdown",
   "metadata": {},
   "source": [
    "#### (b) Assume horizontal stress directions near Dallas-Forth Worth region. What would the azimuth of breakouts and drilling induced fractures be? http://dc-app3-14.gfz-potsdam.de/pub/stress_data/stress_data_frame.html"
   ]
  },
  {
   "cell_type": "markdown",
   "metadata": {},
   "source": [
    "Tensile fractures will occur in the azimuth of $S_{Hmax}$. For Dallas-Forth Worth region, the azimuth of $S_{Hmax}$ is E30°N or 060°.\n",
    "\n",
    "Shear fractures (wellbore breakouts) will occur in the azimuth of $S_{hmin}$. For Dallas-Forth Worth region, the azimuth of $S_{hmin}$ is N30°W or 150°."
   ]
  },
  {
   "cell_type": "markdown",
   "metadata": {},
   "source": [
    "![](files/HW5_Q2.jpg)"
   ]
  },
  {
   "cell_type": "markdown",
   "metadata": {},
   "source": [
    "# Problem 3: Effect of Stress Anisotropy (Differential Stress)\n",
    "\n",
    "#### Consider the following problem, Wellbore: vertical; Site: onshore, 2 km of depth, $\\lambda_p=0.44$, $\\sigma_{hmin} = 0.4 \\sigma_V$; Rock properties: $UCS = 7 MPa$, $q=3.9$, $T_s = 2 MPa$. Calculate wellbore pressure and corresponding mud weight for (i) $w_{BO}=45°$, (ii) $w_{BO}=0°$, and (iii) for inducing tensile fractures for"
   ]
  },
  {
   "cell_type": "markdown",
   "metadata": {},
   "source": [
    "#### (a) $\\sigma_{Hmax} = 0.6 \\sigma_V$\n",
    "#### (b) $\\sigma_{Hmax} = 0.8 \\sigma_V$\n",
    "#### (c) $\\sigma_{Hmax} = 1.0 \\sigma_V$"
   ]
  },
  {
   "cell_type": "code",
   "execution_count": 6,
   "metadata": {},
   "outputs": [
    {
     "data": {
      "text/html": [
       "<div>\n",
       "<style scoped>\n",
       "    .dataframe tbody tr th:only-of-type {\n",
       "        vertical-align: middle;\n",
       "    }\n",
       "\n",
       "    .dataframe tbody tr th {\n",
       "        vertical-align: top;\n",
       "    }\n",
       "\n",
       "    .dataframe thead th {\n",
       "        text-align: right;\n",
       "    }\n",
       "</style>\n",
       "<table border=\"1\" class=\"dataframe\">\n",
       "  <thead>\n",
       "    <tr style=\"text-align: right;\">\n",
       "      <th></th>\n",
       "      <th>σHmax/σV</th>\n",
       "      <th>σHmax/σhmin</th>\n",
       "      <th>wBO [°]</th>\n",
       "      <th>PwBO [MPa]</th>\n",
       "      <th>Pwshear [MPa]</th>\n",
       "      <th>Pb [MPa]</th>\n",
       "      <th>PwBO [ppg]</th>\n",
       "      <th>Pwshear [ppg]</th>\n",
       "      <th>Pb [ppg]</th>\n",
       "      <th>-</th>\n",
       "      <th>wBO [°].1</th>\n",
       "      <th>PwBO [MPa].1</th>\n",
       "      <th>Pwshear [MPa].1</th>\n",
       "      <th>Pb [MPa].1</th>\n",
       "      <th>PwBO [ppg].1</th>\n",
       "      <th>Pwshear [ppg].1</th>\n",
       "      <th>Pb [ppg].1</th>\n",
       "    </tr>\n",
       "  </thead>\n",
       "  <tbody>\n",
       "    <tr>\n",
       "      <th>0</th>\n",
       "      <td>0.6</td>\n",
       "      <td>1.5</td>\n",
       "      <td>45</td>\n",
       "      <td>25.6</td>\n",
       "      <td>26.2</td>\n",
       "      <td>37.7</td>\n",
       "      <td>10.7</td>\n",
       "      <td>11.0</td>\n",
       "      <td>15.8</td>\n",
       "      <td>-</td>\n",
       "      <td>0</td>\n",
       "      <td>26.2</td>\n",
       "      <td>26.2</td>\n",
       "      <td>37.7</td>\n",
       "      <td>11.0</td>\n",
       "      <td>11.0</td>\n",
       "      <td>15.8</td>\n",
       "    </tr>\n",
       "    <tr>\n",
       "      <th>1</th>\n",
       "      <td>0.8</td>\n",
       "      <td>2.0</td>\n",
       "      <td>45</td>\n",
       "      <td>28.1</td>\n",
       "      <td>29.3</td>\n",
       "      <td>32.5</td>\n",
       "      <td>11.7</td>\n",
       "      <td>12.2</td>\n",
       "      <td>13.6</td>\n",
       "      <td>-</td>\n",
       "      <td>0</td>\n",
       "      <td>29.3</td>\n",
       "      <td>29.3</td>\n",
       "      <td>32.5</td>\n",
       "      <td>12.2</td>\n",
       "      <td>12.2</td>\n",
       "      <td>13.6</td>\n",
       "    </tr>\n",
       "    <tr>\n",
       "      <th>2</th>\n",
       "      <td>1.0</td>\n",
       "      <td>2.5</td>\n",
       "      <td>45</td>\n",
       "      <td>30.6</td>\n",
       "      <td>32.5</td>\n",
       "      <td>27.4</td>\n",
       "      <td>12.8</td>\n",
       "      <td>13.6</td>\n",
       "      <td>11.5</td>\n",
       "      <td>-</td>\n",
       "      <td>0</td>\n",
       "      <td>32.5</td>\n",
       "      <td>32.5</td>\n",
       "      <td>27.4</td>\n",
       "      <td>13.6</td>\n",
       "      <td>13.6</td>\n",
       "      <td>11.5</td>\n",
       "    </tr>\n",
       "  </tbody>\n",
       "</table>\n",
       "</div>"
      ],
      "text/plain": [
       "   σHmax/σV  σHmax/σhmin  wBO [°]  PwBO [MPa]  Pwshear [MPa]  Pb [MPa]  \\\n",
       "0       0.6          1.5       45        25.6           26.2      37.7   \n",
       "1       0.8          2.0       45        28.1           29.3      32.5   \n",
       "2       1.0          2.5       45        30.6           32.5      27.4   \n",
       "\n",
       "   PwBO [ppg]  Pwshear [ppg]  Pb [ppg]  -  wBO [°].1  PwBO [MPa].1  \\\n",
       "0        10.7           11.0      15.8  -          0          26.2   \n",
       "1        11.7           12.2      13.6  -          0          29.3   \n",
       "2        12.8           13.6      11.5  -          0          32.5   \n",
       "\n",
       "   Pwshear [MPa].1  Pb [MPa].1  PwBO [ppg].1  Pwshear [ppg].1  Pb [ppg].1  \n",
       "0             26.2        37.7          11.0             11.0        15.8  \n",
       "1             29.3        32.5          12.2             12.2        13.6  \n",
       "2             32.5        27.4          13.6             13.6        11.5  "
      ]
     },
     "execution_count": 6,
     "metadata": {},
     "output_type": "execute_result"
    }
   ],
   "source": [
    "import pandas as pd\n",
    "\n",
    "excel_file = 'HW5.xlsx'\n",
    "DataQ3Summary = pd.read_excel(excel_file, sheet_name=4)\n",
    "DataQ3Summary.head(3)"
   ]
  },
  {
   "cell_type": "code",
   "execution_count": 7,
   "metadata": {},
   "outputs": [
    {
     "data": {
      "image/png": "[encoded data removed]",
      "text/plain": [
       "<Figure size 1440x360 with 1 Axes>"
      ]
     },
     "metadata": {
      "needs_background": "light"
     },
     "output_type": "display_data"
    }
   ],
   "source": [
    "import numpy as np\n",
    "import matplotlib.pyplot as plt\n",
    "\n",
    "σHmaxσhminratio = DataQ3Summary['σHmax/σhmin']\n",
    "PwBO_45 = DataQ3Summary['PwBO [MPa]']\n",
    "Pwshear_45 = DataQ3Summary['Pwshear [MPa]']\n",
    "Pb_45 = DataQ3Summary['Pb [MPa]']\n",
    "PwBO_0 = DataQ3Summary['PwBO [MPa].1']\n",
    "Pwshear_0 = DataQ3Summary['Pwshear [MPa].1']\n",
    "Pb_0 = DataQ3Summary['Pb [MPa].1']\n",
    "\n",
    "# Change plot size\n",
    "fig = plt.gcf()\n",
    "fig.set_size_inches(20, 5)\n",
    "# Plot data\n",
    "plt.subplot(1, 2, 1)\n",
    "plt.plot(PwBO_45,σHmaxσhminratio,'tab:orange', label='$P_{wBO}$')\n",
    "plt.plot(Pwshear_45,σHmaxσhminratio,'tab:blue', label='$P_{wshear}$')\n",
    "plt.plot(Pb_45,σHmaxσhminratio,'tab:gray', label='$P_b$')\n",
    "# Plot labels\n",
    "plt.xlabel('Wellbore Pressure [MPa]')\n",
    "plt.ylabel('$\\sigma_{Hmax}/\\sigma_V$')\n",
    "plt.title('Wellbore Breakout Angle ($w_{BO}$) of 45°')\n",
    "plt.legend()\n",
    "# Axis range\n",
    "plt.xlim([20, 40])\n",
    "plt.ylim([1, 3])\n",
    "plt.show()"
   ]
  },
  {
   "cell_type": "code",
   "execution_count": 8,
   "metadata": {},
   "outputs": [
    {
     "data": {
      "image/png": "[encoded data removed]",
      "text/plain": [
       "<Figure size 648x360 with 1 Axes>"
      ]
     },
     "metadata": {
      "needs_background": "light"
     },
     "output_type": "display_data"
    }
   ],
   "source": [
    "# Change plot size\n",
    "fig = plt.gcf()\n",
    "fig.set_size_inches(9, 5)\n",
    "# Plot data\n",
    "plt.plot(PwBO_0,σHmaxσhminratio,'tab:blue', label='$P_{wBO}=P_{wshear}$')\n",
    "plt.plot(Pb_0,σHmaxσhminratio,'tab:gray', label='$P_b$')\n",
    "# Plot labels\n",
    "plt.xlabel('Wellbore Pressure [MPa]')\n",
    "plt.ylabel('$\\sigma_{Hmax}/\\sigma_V$')\n",
    "plt.title('Wellbore Breakout Angle ($w_{BO}$) of 0°')\n",
    "plt.legend()\n",
    "# Axis range\n",
    "plt.xlim([20, 60])\n",
    "plt.ylim([1, 3])\n",
    "plt.show()"
   ]
  },
  {
   "cell_type": "markdown",
   "metadata": {},
   "source": [
    "#### (d) How does the drilling mud window change with σHmax/σHmin?"
   ]
  },
  {
   "cell_type": "markdown",
   "metadata": {},
   "source": [
    "As $\\sigma_{Hmax}/\\sigma_{hmin}$ increases, the mud window becomes narrower. The wellbore becomes unstable when $P_b$ is smaller than $P_{wBO}$. More stress anisotropy creates a less stable wellbore. "
   ]
  },
  {
   "cell_type": "markdown",
   "metadata": {},
   "source": [
    "# Problem 4: Offshore\n",
    "\n",
    "#### Consider the same formation as above but in offshore conditions, Wellbore: vertical; Site: offshore, 2 km of total depth, 500 m of water, hydrostatic pore pressure, $\\sigma_{hmin} = 0.4 \\sigma_V$, $\\sigma_{Hmax} = 0.8 \\sigma_V$; Rock properties: $UCS = 7 MPa$, $q=3.9$, $T_s = 2 MPa$. Calculate wellbore pressure and corresponding mud weight for (i) $w_{BO}=45°$, (ii) $w_{BO}=0°$, and (iii) for inducing tensile fractures."
   ]
  },
  {
   "cell_type": "code",
   "execution_count": 9,
   "metadata": {},
   "outputs": [
    {
     "data": {
      "text/html": [
       "<div>\n",
       "<style scoped>\n",
       "    .dataframe tbody tr th:only-of-type {\n",
       "        vertical-align: middle;\n",
       "    }\n",
       "\n",
       "    .dataframe tbody tr th {\n",
       "        vertical-align: top;\n",
       "    }\n",
       "\n",
       "    .dataframe thead th {\n",
       "        text-align: right;\n",
       "    }\n",
       "</style>\n",
       "<table border=\"1\" class=\"dataframe\">\n",
       "  <thead>\n",
       "    <tr style=\"text-align: right;\">\n",
       "      <th></th>\n",
       "      <th>wBO [°]</th>\n",
       "      <th>PwBO [MPa]</th>\n",
       "      <th>Pwshear [MPa]</th>\n",
       "      <th>Pb [MPa]</th>\n",
       "      <th>PwBO [ppg]</th>\n",
       "      <th>Pwshear [ppg]</th>\n",
       "      <th>Pb [ppg]</th>\n",
       "    </tr>\n",
       "  </thead>\n",
       "  <tbody>\n",
       "    <tr>\n",
       "      <th>0</th>\n",
       "      <td>0</td>\n",
       "      <td>26.6</td>\n",
       "      <td>26.6</td>\n",
       "      <td>29.9</td>\n",
       "      <td>11.1</td>\n",
       "      <td>11.1</td>\n",
       "      <td>12.5</td>\n",
       "    </tr>\n",
       "    <tr>\n",
       "      <th>1</th>\n",
       "      <td>45</td>\n",
       "      <td>25.7</td>\n",
       "      <td>26.6</td>\n",
       "      <td>29.9</td>\n",
       "      <td>10.7</td>\n",
       "      <td>11.1</td>\n",
       "      <td>12.5</td>\n",
       "    </tr>\n",
       "  </tbody>\n",
       "</table>\n",
       "</div>"
      ],
      "text/plain": [
       "   wBO [°]  PwBO [MPa]  Pwshear [MPa]  Pb [MPa]  PwBO [ppg]  Pwshear [ppg]  \\\n",
       "0        0        26.6           26.6      29.9        11.1           11.1   \n",
       "1       45        25.7           26.6      29.9        10.7           11.1   \n",
       "\n",
       "   Pb [ppg]  \n",
       "0      12.5  \n",
       "1      12.5  "
      ]
     },
     "execution_count": 9,
     "metadata": {},
     "output_type": "execute_result"
    }
   ],
   "source": [
    "import pandas as pd\n",
    "\n",
    "excel_file = 'HW5.xlsx'\n",
    "DataQ3Summary = pd.read_excel(excel_file, sheet_name=6)\n",
    "DataQ3Summary.head(3)"
   ]
  },
  {
   "cell_type": "markdown",
   "metadata": {},
   "source": [
    "# Problem 5: Horizontal Wells\n",
    "\n",
    "#### Evaluate wellbore stability for horizontal wells that you will need to exploit in a gas reservoir subjected to a strike-slip stress environment."
   ]
  },
  {
   "cell_type": "markdown",
   "metadata": {},
   "source": [
    "#### (a) Draw cross-sections of wellbores drilled parallel to $S_{hmin}$ and $S_{Hmax}$, identify involved stresses, and clearly mark expected positions of tensile fractures and wellbore breakouts."
   ]
  },
  {
   "cell_type": "markdown",
   "metadata": {},
   "source": [
    "In a strike-slip fault we have $S_{hmin} < S_v< S_{Hmax}$\n",
    "\n",
    "![](files/HW5_Q5.jpg)"
   ]
  },
  {
   "cell_type": "markdown",
   "metadata": {},
   "source": [
    "#### (b) The horizontal wells lie at about 8000ft depth where it is estimated that ${S_hmin}=50MPa$, ${S_Hmax}=70MPa$ and $\\lambda_p=0.6$. The unconfined compressive strength of the rock is 8500psi, $\\mu=1.0$, and $T_s=0 psi$ is a good estimate for tensile strength, given the large density of natural fractures. Determine the mechanical stability limits on wellbore pressure for both horizontal well directions considered.\n",
    "\n",
    "#### (c) Determine mud density window appropriate for these wells (keep in mind potential lost circulation)."
   ]
  },
  {
   "cell_type": "code",
   "execution_count": 10,
   "metadata": {},
   "outputs": [
    {
     "data": {
      "text/html": [
       "<div>\n",
       "<style scoped>\n",
       "    .dataframe tbody tr th:only-of-type {\n",
       "        vertical-align: middle;\n",
       "    }\n",
       "\n",
       "    .dataframe tbody tr th {\n",
       "        vertical-align: top;\n",
       "    }\n",
       "\n",
       "    .dataframe thead th {\n",
       "        text-align: right;\n",
       "    }\n",
       "</style>\n",
       "<table border=\"1\" class=\"dataframe\">\n",
       "  <thead>\n",
       "    <tr style=\"text-align: right;\">\n",
       "      <th></th>\n",
       "      <th>Horizontal Well Direction</th>\n",
       "      <th>σmax</th>\n",
       "      <th>σmin</th>\n",
       "      <th>wBO [°]</th>\n",
       "      <th>PwBO [psi]</th>\n",
       "      <th>Pwshear [psi]</th>\n",
       "      <th>Pb [psi]</th>\n",
       "      <th>PwBO [ppg]</th>\n",
       "      <th>Pwshear [ppg]</th>\n",
       "      <th>Pb [ppg]</th>\n",
       "    </tr>\n",
       "  </thead>\n",
       "  <tbody>\n",
       "    <tr>\n",
       "      <th>0</th>\n",
       "      <td>Horizontal in direction of SHmax</td>\n",
       "      <td>3200</td>\n",
       "      <td>2450</td>\n",
       "      <td>45</td>\n",
       "      <td>4538</td>\n",
       "      <td>4602</td>\n",
       "      <td>8950</td>\n",
       "      <td>10.9</td>\n",
       "      <td>11.1</td>\n",
       "      <td>21.5</td>\n",
       "    </tr>\n",
       "    <tr>\n",
       "      <th>1</th>\n",
       "      <td>Horizontal in direction of Shmin</td>\n",
       "      <td>5350</td>\n",
       "      <td>3200</td>\n",
       "      <td>45</td>\n",
       "      <td>5253</td>\n",
       "      <td>5437</td>\n",
       "      <td>9050</td>\n",
       "      <td>12.6</td>\n",
       "      <td>13.1</td>\n",
       "      <td>21.8</td>\n",
       "    </tr>\n",
       "  </tbody>\n",
       "</table>\n",
       "</div>"
      ],
      "text/plain": [
       "          Horizontal Well Direction  σmax  σmin  wBO [°]  PwBO [psi]  \\\n",
       "0  Horizontal in direction of SHmax  3200  2450       45        4538   \n",
       "1  Horizontal in direction of Shmin  5350  3200       45        5253   \n",
       "\n",
       "   Pwshear [psi]  Pb [psi]  PwBO [ppg]  Pwshear [ppg]  Pb [ppg]  \n",
       "0           4602      8950        10.9           11.1      21.5  \n",
       "1           5437      9050        12.6           13.1      21.8  "
      ]
     },
     "execution_count": 10,
     "metadata": {},
     "output_type": "execute_result"
    }
   ],
   "source": [
    "import pandas as pd\n",
    "\n",
    "excel_file = 'HW5.xlsx'\n",
    "DataQ3Summary = pd.read_excel(excel_file, sheet_name=8)\n",
    "DataQ3Summary.head(3)"
   ]
  },
  {
   "cell_type": "markdown",
   "metadata": {},
   "source": [
    "#### (d) Which one appears to have a wider mud window? Justify"
   ]
  },
  {
   "cell_type": "markdown",
   "metadata": {},
   "source": [
    "The lateral drilled parallel to maximum horizontal stress has a wider mud window because the difference between the inplane max and min stress $(\\sigma_{Hmax}-\\sigma_{hmin})$ is smaller "
   ]
  }
 ],
 "metadata": {
  "kernelspec": {
   "display_name": "Python 3",
   "language": "python",
   "name": "python3"
  },
  "language_info": {
   "codemirror_mode": {
    "name": "ipython",
    "version": 3
   },
   "file_extension": ".py",
   "mimetype": "text/x-python",
   "name": "python",
   "nbconvert_exporter": "python",
   "pygments_lexer": "ipython3",
   "version": "3.7.0"
  }
 },
 "nbformat": 4,
 "nbformat_minor": 2
}
