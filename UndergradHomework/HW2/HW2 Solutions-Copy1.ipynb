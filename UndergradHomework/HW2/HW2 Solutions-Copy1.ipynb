{
 "cells": [
  {
   "cell_type": "markdown",
   "metadata": {},
   "source": [
    "h) Compute effective and total stresses assuming there is overpressure $\\lambda_p=0.7$, tectonic strains $\\epsilon_hmin=0$ and $\\epsilon_hmax=0.0002$ and the shale Young’s modulus is $E=5 MMpsi$.\n",
    "\n",
    "$$\\lambda_p = \\frac{P_p}{S_V}$$\n",
    "\n",
    "$$P_p = \\lambda_p \\times S_V = 0.7 \\times 57.67 MPa = 40.4 MPa$$\n",
    "\n",
    "So effective vertical stress is\n",
    "\n",
    "$$\\sigma_V = S_V - P_p = 17.3 MPa$$\n",
    "\n",
    "The maximum effective horizontal stress and minimum horizontal stresses are given by\n",
    "\n",
    "$$\\sigma_{Hmax}=\\frac{E}{1-v^2}\\epsilon_{Hmax}+\\frac{vE}{1-v^2}\\epsilon_{Hmin}+\\frac{v}{1-v}\\sigma_{V}$$\n",
    "\n",
    "$$\\sigma_{Hmin}=\\frac{vE}{1-v^2}\\epsilon_{Hmax}+\\frac{E}{1-v^2}\\epsilon_{Hmin}+\\frac{v}{1-v}\\sigma_{V}$$\n",
    "\n",
    "With $E=5MM psi$ and $v=0.22$, we have\n",
    "\n",
    "$$\\sigma_{Hmax}=\\frac{5000000 psi}{1-0.22^2} \\times 0.0002+\\frac{0.22 \\times 5000000 psi}{1-0.22^2} \\times 0+\\frac{0.22}{1-0.22} \\times 17.3 MPa = 7.21 MPa + 0 MPa + 4.88 MPa = 12.1 MPa$$ \n",
    "\n",
    "$$\\sigma_{Hmin}=\\frac{0.22 \\times 5000000 psi}{1-0.22^2} \\times 0.0002+\\frac{5000000 psi}{1-0.22^2} \\times 0+\\frac{0.22}{1- 0.22} \\times 17.3 MPa = 1.58 MPa + 0 MPa + 4.88 MPa = 6.46 MPa $$\n",
    "\n",
    "Note in above calculations, E must be in psi. \n",
    "\n",
    "$$\\sigma_{Hmax}=12.1MPa$$\n",
    "\n",
    "$$\\sigma_{Hmin}=6.46MPa$$\n",
    "\n",
    "$$\\sigma_V=17.3MPa$$\n",
    "\n",
    "$$S_{Hmax}=\\sigma_{Hmax}+P_p=12.1MPa+40.4MPa=52.5MPa$$\n",
    "\n",
    "$$S_{Hmin}=\\sigma_{Hmin}+P_p=6.46MPa+40.4MPa=47.1MPa$$\n",
    "\n",
    "$$S_V=\\sigma_V+P_p=17.3 MPa+40.4MPa=57.5MPa$$"
   ]
  }
 ],
 "metadata": {
  "kernelspec": {
   "display_name": "Python 3",
   "language": "python",
   "name": "python3"
  },
  "language_info": {
   "codemirror_mode": {
    "name": "ipython",
    "version": 3
   },
   "file_extension": ".py",
   "mimetype": "text/x-python",
   "name": "python",
   "nbconvert_exporter": "python",
   "pygments_lexer": "ipython3",
   "version": "3.7.0"
  }
 },
 "nbformat": 4,
 "nbformat_minor": 2
}
