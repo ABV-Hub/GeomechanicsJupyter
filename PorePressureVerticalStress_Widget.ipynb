{
 "cells": [
  {
   "cell_type": "markdown",
   "metadata": {},
   "source": [
    "This is an interactive plot of pore pressure and vertical stress with constant pore pressure gradient and vertical stress gradient, considering the depth of water."
   ]
  },
  {
   "cell_type": "code",
   "execution_count": 1,
   "metadata": {},
   "outputs": [],
   "source": [
    "%matplotlib inline\n",
    "import matplotlib.pyplot as plt\n",
    "import numpy as np\n",
    "\n",
    "from ipywidgets import interact"
   ]
  },
  {
   "cell_type": "code",
   "execution_count": 4,
   "metadata": {},
   "outputs": [
    {
     "data": {
      "application/vnd.jupyter.widget-view+json": {
       "model_id": "9d5c3636e0f549cc95f22aef2cc210ae",
       "version_major": 2,
       "version_minor": 0
      },
      "text/plain": [
       "interactive(children=(FloatSlider(value=0.5, description='GradPp', max=0.9, min=0.4), FloatSlider(value=1.0, d…"
      ]
     },
     "metadata": {},
     "output_type": "display_data"
    }
   ],
   "source": [
    "@interact(GradPp=(0.4,0.9),GradSv=(0.9,1.3),zw=(0,5000,100)) # Widget variables: GradPp [psi/ft], GradSv [psi/ft], z_w [ft]\n",
    "def plotter(GradPp=0.5,GradSv=1,zw=0):\n",
    "    # define linear space for depth z\n",
    "    z = np.linspace(zw,10000,100) # [ft]\n",
    "    # calculate pore pressure and vertical stress\n",
    "    rhowg = 0.44 # [psi/ft]\n",
    "    Pp = rhowg*zw + GradPp*(z-zw)\n",
    "    Sv = rhowg*zw + GradSv*(z-zw)    \n",
    "    # plot pore pressure, vertical stress and seafloor\n",
    "    plt.plot(Pp,z, 'b-', label = \"P_p\")\n",
    "    plt.plot(Sv,z, 'r-', label = \"S_v\")\n",
    "    plt.plot([0,15000],[zw,zw],'k--', label = \"Seafloor\")\n",
    "    # plotting options\n",
    "    plt.xlabel('Pore pressure and stress [psi]')\n",
    "    plt.ylabel('Depth [ft]')\n",
    "    plt.xlim(0,15000)\n",
    "    plt.ylim(0,10000)\n",
    "    plt.gca().invert_yaxis()\n",
    "    plt.legend()"
   ]
  },
  {
   "cell_type": "code",
   "execution_count": null,
   "metadata": {},
   "outputs": [],
   "source": []
  }
 ],
 "metadata": {
  "kernelspec": {
   "display_name": "Python 3",
   "language": "python",
   "name": "python3"
  },
  "language_info": {
   "codemirror_mode": {
    "name": "ipython",
    "version": 3
   },
   "file_extension": ".py",
   "mimetype": "text/x-python",
   "name": "python",
   "nbconvert_exporter": "python",
   "pygments_lexer": "ipython3",
   "version": "3.6.5"
  }
 },
 "nbformat": 4,
 "nbformat_minor": 2
}
