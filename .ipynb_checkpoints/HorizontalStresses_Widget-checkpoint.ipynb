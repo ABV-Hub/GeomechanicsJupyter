{
 "cells": [
  {
   "cell_type": "markdown",
   "metadata": {},
   "source": [
    "This is an interactive plot of a line"
   ]
  },
  {
   "cell_type": "code",
   "execution_count": 2,
   "metadata": {},
   "outputs": [],
   "source": [
    "%matplotlib inline\n",
    "import matplotlib.pyplot as plt\n",
    "import numpy as np\n",
    "\n",
    "from ipywidgets import interact"
   ]
  },
  {
   "cell_type": "code",
   "execution_count": 5,
   "metadata": {},
   "outputs": [
    {
     "data": {
      "application/vnd.jupyter.widget-view+json": {
       "model_id": "68cfb0e803304f8d935df252c2f1c487",
       "version_major": 2,
       "version_minor": 0
      },
      "text/plain": [
       "interactive(children=(SelectionSlider(description='nu', options=(('0', 0.0), ('0.01', 0.01), ('0.02', 0.02), (…"
      ]
     },
     "metadata": {},
     "output_type": "display_data"
    }
   ],
   "source": [
    "from ipywidgets import SelectionSlider\n",
    "\n",
    "\n",
    "def mkSlider(minX,maxX,step):\n",
    "    values=[i*step for i in range(int(minX),int((maxX-minX)/step))]\n",
    "    nuSlider = SelectionSlider(options=[(\"%g\"%i,i) for i in values])\n",
    "    return nuSlider\n",
    "\n",
    "@interact(nu=mkSlider(0,0.49,0.01),\n",
    "          eps11=mkSlider(0,0.01,0.0001),\n",
    "          eps22=mkSlider(0,0.01,0.0001),\n",
    "          Ppcurv=mkSlider(0,0.00005,0.00001)) # Widget variables \n",
    "\n",
    "def plotter(nu=0.25,eps11=0.000,eps22=0.001,Ppcurv=0.00000):\n",
    "    # define linear space for depth z and gradients\n",
    "    z = np.linspace(0,10000,1000) # [ft]\n",
    "    V1 = z/max(z) # the vector V1 will increase tectonic strain linearly with depth\n",
    "    GradSv = 1 # [psi/ft]\n",
    "    GradPp = 0.44 # [psi/ft] on surface\n",
    "    # define mechanical properties\n",
    "    E = 1e+6 # [psi]\n",
    "    Eps = E/(1-nu*nu) # plane strain modulus \n",
    "    # calculate pore pressure and vertical stress\n",
    "    Pp = GradPp*z + Ppcurv*z**2 # Ppcurv simulates overpressure increasing with depth\n",
    "    Sv = GradSv*z    \n",
    "        #effective stresses\n",
    "    sigmav = Sv-Pp\n",
    "    sigma11 = nu/(1-nu)*sigmav + Eps*eps11*V1 + nu*Eps*eps22*V1\n",
    "    sigma22 = nu/(1-nu)*sigmav + Eps*eps22*V1 + nu*Eps*eps11*V1    \n",
    "        #effective stresses\n",
    "    S11 = sigma11 + Pp\n",
    "    S22 = sigma22 + Pp\n",
    "    # plot pore pressure, vertical stress and seafloor\n",
    "    f = plt.figure()\n",
    "    plt.plot(Pp,z, 'b-', label = \"P_p\")\n",
    "    plt.plot(Sv,z, 'r-', label = \"S_v\")\n",
    "    plt.plot(S11,z, 'g--',label = \"S11\")\n",
    "    plt.plot(S22,z, 'm--',label = \"S22\")\n",
    "        # plotting options\n",
    "    plt.xlabel('Pore pressure and stress [psi]')\n",
    "    plt.ylabel('Depth [ft]')\n",
    "    plt.xlim(0,13000)\n",
    "    plt.ylim(0,10000)\n",
    "    plt.gca().invert_yaxis()\n",
    "    plt.legend()\n",
    "    # plt.savefig(\"fig.pdf\")"
   ]
  },
  {
   "cell_type": "code",
   "execution_count": null,
   "metadata": {},
   "outputs": [],
   "source": []
  }
 ],
 "metadata": {
  "kernelspec": {
   "display_name": "Python 3",
   "language": "python",
   "name": "python3"
  },
  "language_info": {
   "codemirror_mode": {
    "name": "ipython",
    "version": 3
   },
   "file_extension": ".py",
   "mimetype": "text/x-python",
   "name": "python",
   "nbconvert_exporter": "python",
   "pygments_lexer": "ipython3",
   "version": "3.6.3"
  }
 },
 "nbformat": 4,
 "nbformat_minor": 2
}
