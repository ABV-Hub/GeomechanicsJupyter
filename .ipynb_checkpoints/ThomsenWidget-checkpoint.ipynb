{
 "cells": [
  {
   "cell_type": "markdown",
   "metadata": {},
   "source": [
    "This is an interactive plot of P-wave velocities with Thomsen's weal anisotropy"
   ]
  },
  {
   "cell_type": "code",
   "execution_count": 37,
   "metadata": {},
   "outputs": [],
   "source": [
    "%matplotlib inline\n",
    "import matplotlib.pyplot as plt\n",
    "import numpy as np\n",
    "\n",
    "from ipywidgets import interact"
   ]
  },
  {
   "cell_type": "code",
   "execution_count": 84,
   "metadata": {},
   "outputs": [
    {
     "data": {
      "application/vnd.jupyter.widget-view+json": {
       "model_id": "ad19fc6d93684d8990d2e1e80f77d588",
       "version_major": 2,
       "version_minor": 0
      },
      "text/plain": [
       "interactive(children=(SelectionSlider(description='epsilon', options=(('0', 0.0), ('0.05', 0.05), ('0.1', 0.1)…"
      ]
     },
     "metadata": {},
     "output_type": "display_data"
    }
   ],
   "source": [
    "from ipywidgets import SelectionSlider\n",
    "\n",
    "\n",
    "def mkSlider(minX,maxX,step):\n",
    "    values=[i*step for i in range(int(minX),int((maxX-minX)/step))]\n",
    "    nuSlider = SelectionSlider(options=[(\"%g\"%i,i) for i in values])\n",
    "    return nuSlider\n",
    "\n",
    "@interact(epsilon = mkSlider(0,0.4,0.05),\n",
    "          delta   = mkSlider(0,0.4,0.05),\n",
    "          gamma   = mkSlider(0,0.4,0.05))\n",
    "          #VPvert  = mkSlider(1,5.,0.1)) # Widget variables \n",
    "\n",
    "def plotter(epsilon=0.00,delta=0.000,gamma=0.000): #,VPvert=2000):\n",
    "    # define linear space for angle theta\n",
    "    theta = np.linspace(0,90,90)*3.1415/180 # [degrees DEG] linear soace (minvalue, maxvalue, number of elements)\n",
    "    # calculate Vp at angle theta\n",
    "    Vp = 3000*(1+delta*(np.sin(theta))**2 * np.cos(theta)**2 + epsilon*(np.sin(theta))**4) \n",
    "        # Vp absolute\n",
    "        # Vpx and Vpy\n",
    "    Vpx = Vp * np.sin(theta)\n",
    "    Vpy = Vp * np.cos(theta)\n",
    "    \n",
    "    # plot pore pressure, vertical stress and seafloor\n",
    "    f = plt.figure()\n",
    "    plt.plot(Vpx,Vpy, 'b-', label = \"Vp\")\n",
    "        # plotting options\n",
    "    plt.xlabel('Vpx [m/s]')\n",
    "    plt.ylabel('Vpy [m/s]')\n",
    "    plt.axis('square')\n",
    "    plt.xlim(0,5000)\n",
    "    plt.ylim(0,5000)\n",
    "    #plt.legend()\n",
    "    # plt.savefig(\"fig.pdf\")\n",
    "    "
   ]
  }
 ],
 "metadata": {
  "kernelspec": {
   "display_name": "Python 3",
   "language": "python",
   "name": "python3"
  },
  "language_info": {
   "codemirror_mode": {
    "name": "ipython",
    "version": 3
   },
   "file_extension": ".py",
   "mimetype": "text/x-python",
   "name": "python",
   "nbconvert_exporter": "python",
   "pygments_lexer": "ipython3",
   "version": "3.6.5"
  }
 },
 "nbformat": 4,
 "nbformat_minor": 2
}
