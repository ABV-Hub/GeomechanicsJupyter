{
 "cells": [
  {
   "cell_type": "markdown",
   "metadata": {},
   "source": [
    "# WP1 Problem 2\n",
    "### Author: John D'Angelo\n",
    "### Fall 2018, University of Texas at Austin"
   ]
  },
  {
   "cell_type": "code",
   "execution_count": 2,
   "metadata": {},
   "outputs": [],
   "source": [
    "#Import necessary libraries\n",
    "import matplotlib.pyplot as plt\n",
    "import numpy as np\n",
    "import lasio\n",
    "%matplotlib inline"
   ]
  },
  {
   "cell_type": "code",
   "execution_count": 2,
   "metadata": {},
   "outputs": [],
   "source": [
    "#File names\n",
    "wellLogData = \"1_14-1_Composite.las\"\n",
    "wellDevSurvey = \"1_14-1_deviation_mod.dev\""
   ]
  },
  {
   "cell_type": "code",
   "execution_count": 3,
   "metadata": {},
   "outputs": [],
   "source": [
    "#Read Las file\n",
    "las = lasio.read(wellLogData)\n",
    "#depth data\n",
    "depth = las['DEPTH']\n",
    "#bulk mass density\n",
    "bulkMassDensity = las['RHOB']\n",
    "#correction for bulk mass density\n",
    "bMDCorrection = las['DRHO']\n",
    "#Correct bulk mass density\n",
    "correctedBMD = bulkMassDensity+bMDCorrection"
   ]
  },
  {
   "cell_type": "code",
   "execution_count": 22,
   "metadata": {},
   "outputs": [],
   "source": [
    "#Withdraw data from dev file\n",
    "firstRow = True\n",
    "Y=[]\n",
    "X=[]\n",
    "MD=[]\n",
    "TVDSS=[]\n",
    "with open(wellDevSurvey) as devFile:\n",
    "    for row in devFile:\n",
    "        if not firstRow:\n",
    "            values = row.split()\n",
    "            MD.append(float(values[0]))\n",
    "            TVDSS.append(float(values[1]))\n",
    "            X.append(float(values[2]))\n",
    "            Y.append(float(values[3]))\n",
    "            \n",
    "        else:\n",
    "            firstRow = False\n",
    "MD = np.array(MD)\n",
    "TVDSS = np.array(TVDSS)\n",
    "X = np.array(X)\n",
    "Y= np.array(Y)"
   ]
  },
  {
   "cell_type": "code",
   "execution_count": 23,
   "metadata": {},
   "outputs": [],
   "source": [
    "#Interpolate MD in dev file against depth in las file to get TVDSS\n",
    "#as function of depth values in log file\n",
    "TVD_las = np.interp(depth,MD,TVDSS)"
   ]
  },
  {
   "cell_type": "code",
   "execution_count": 24,
   "metadata": {},
   "outputs": [],
   "source": [
    "#We are told to assume an average bulk density of 2 g/cc between sea\n",
    "#floor and beginning of density data\n",
    "avgBMD = 2\n",
    "#replace all nan values in corrected BMD value with this average\n",
    "correctedBMD[np.where(np.isnan(correctedBMD))]= 2"
   ]
  },
  {
   "cell_type": "code",
   "execution_count": 25,
   "metadata": {},
   "outputs": [],
   "source": [
    "#Part a, plot all available tracks with depth in the y-axis. I opted against setting\n",
    "#axis limits for the x axis since we were not told to compare any of the tracks in this part.\n",
    "\n",
    "#Enable output to pdf file\n",
    "from matplotlib.backends.backend_pdf import PdfPages\n",
    "pdf = PdfPages('AllAvailableTracks.pdf')\n",
    "#Plot each track and add as a page to pdf\n",
    "for entry in las.keys():\n",
    "    if entry != \"DEPTH\":\n",
    "        fig = plt.figure(figsize=(10,6))\n",
    "        ax = fig.add_subplot(111)\n",
    "        ax.plot(las[entry],depth)\n",
    "        ax.set_ylabel('Depth [m]')\n",
    "        ax.set_xlabel(entry + ' ['+las.header['Curves'][entry].unit + ']')\n",
    "        ax.set_ylim([0,np.max(depth)+500])\n",
    "        ax.invert_yaxis();\n",
    "        ax.set_title(\"Log Data: \"+entry)\n",
    "        ax.grid();\n",
    "        pdf.savefig()\n",
    "        plt.close()\n",
    "pdf.close()\n",
    "#See pdf file in directory for plots"
   ]
  },
  {
   "cell_type": "code",
   "execution_count": 26,
   "metadata": {},
   "outputs": [],
   "source": [
    "gravity = 9.81 #gravitational acceleration m/s2\n",
    "\n",
    "#Part b, Calculate Vertical Stress\n",
    "deltaZ = np.diff(TVD_las)\n",
    "deltaZ = np.insert(deltaZ,0,0)\n",
    "verticalStress = np.cumsum(correctedBMD*gravity*deltaZ)\n",
    "\n",
    "#Part c, Calculate pore pressure\n",
    "#Note that the TVDSS readings must be corrected to account for the\n",
    "#104 [m] water height\n",
    "correctedTVD = TVD_las-104\n",
    "mudWeight = 1040\n",
    "porePressure = mudWeight*gravity*correctedTVD\n",
    "porePressure=porePressure*(1e-6)"
   ]
  },
  {
   "cell_type": "code",
   "execution_count": 27,
   "metadata": {},
   "outputs": [
    {
     "data": {
      "text/plain": [
       "(0, 100)"
      ]
     },
     "execution_count": 27,
     "metadata": {},
     "output_type": "execute_result"
    },
    {
     "data": {
      "image/png": "[encoded data removed]",
      "text/plain": [
       "<matplotlib.figure.Figure at 0xd52e510>"
      ]
     },
     "metadata": {},
     "output_type": "display_data"
    }
   ],
   "source": [
    "#Plot result\n",
    "fig = plt.figure()\n",
    "ax = fig.add_subplot(111)\n",
    "ax.plot(porePressure,depth,'--',label='Pw')\n",
    "ax.plot(verticalStress*(0.001),depth,'r',label='Sv')\n",
    "ax.plot([0,100],[104,104],'k--',label='Sea floor')\n",
    "ax.legend()\n",
    "ax.set_ylabel('Depth [m]')\n",
    "ax.set_xlabel(\"Pore Presure [MPa]\")\n",
    "ax.invert_yaxis();\n",
    "ax.grid();\n",
    "ax.set_xlim([0,100])"
   ]
  },
  {
   "cell_type": "code",
   "execution_count": null,
   "metadata": {},
   "outputs": [],
   "source": []
  }
 ],
 "metadata": {
  "kernelspec": {
   "display_name": "Python 3",
   "language": "python",
   "name": "python3"
  },
  "language_info": {
   "codemirror_mode": {
    "name": "ipython",
    "version": 3
   },
   "file_extension": ".py",
   "mimetype": "text/x-python",
   "name": "python",
   "nbconvert_exporter": "python",
   "pygments_lexer": "ipython3",
   "version": "3.6.3"
  }
 },
 "nbformat": 4,
 "nbformat_minor": 2
}
